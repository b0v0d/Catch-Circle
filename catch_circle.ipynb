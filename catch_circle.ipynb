{
 "cells": [
  {
   "cell_type": "code",
   "execution_count": 25,
   "id": "a98ad2e7-90c2-4223-9d25-8de2e63d54b1",
   "metadata": {},
   "outputs": [],
   "source": [
    "import cv2\n",
    "import mediapipe as mp\n",
    "import random"
   ]
  },
  {
   "cell_type": "code",
   "execution_count": 26,
   "id": "ca1eefe6-2ec9-47be-98db-4a1fec253bfc",
   "metadata": {},
   "outputs": [],
   "source": [
    "# MediaPipe Hands 초기화\n",
    "mp_hands = mp.solutions.hands\n",
    "hands = mp_hands.Hands(min_detection_confidence=0.7, min_tracking_confidence=0.7)\n",
    "mp_drawing = mp.solutions.drawing_utils"
   ]
  },
  {
   "cell_type": "code",
   "execution_count": 27,
   "id": "e1dc118e-128c-4a80-abfd-b62abe762578",
   "metadata": {},
   "outputs": [],
   "source": [
    "# 원 초기 설정\n",
    "num_circles = 5\n",
    "circles = []\n",
    "score = 0"
   ]
  },
  {
   "cell_type": "code",
   "execution_count": 28,
   "id": "8acd81ae-21b6-4867-81e0-9ee3f9b167d3",
   "metadata": {},
   "outputs": [],
   "source": [
    "def create_circle(color, radius):\n",
    "    return {\n",
    "        \"pos\": [random.randint(radius, 640-radius), random.randint(radius, 480-radius)],\n",
    "        \"radius\": radius,\n",
    "        \"velocity\": [random.choice([-5, 5]), random.choice([-5, 5])],\n",
    "        \"color\": color,\n",
    "        \"score\": 5 if color == (0, 255, 0) else 3 if color == (255, 0, 0) else -3\n",
    "    }"
   ]
  },
  {
   "cell_type": "code",
   "execution_count": 29,
   "id": "54c811f9-e99e-43d4-9c72-c8053ba628cf",
   "metadata": {},
   "outputs": [],
   "source": [
    "# 붉은색, 푸른색, 초록색 원 생성\n",
    "for _ in range(num_circles):\n",
    "    circles.append(create_circle((0, 0, 255), 20))  # 붉은색 원\n",
    "    circles.append(create_circle((255, 0, 0), 20))  # 푸른색 원\n",
    "    circles.append(create_circle((0, 255, 0), 20))  # 초록색 원 (작은 크기)"
   ]
  },
  {
   "cell_type": "code",
   "execution_count": 30,
   "id": "b3587ca4-0ee9-4bc9-960f-426d7878060c",
   "metadata": {},
   "outputs": [],
   "source": [
    "# 원 이동 함수\n",
    "def move_circles():\n",
    "    for circle in circles:\n",
    "        for i in range(2):\n",
    "            circle[\"pos\"][i] += circle[\"velocity\"][i]\n",
    "            if circle[\"pos\"][i] - circle[\"radius\"] <= 0 or circle[\"pos\"][i] + circle[\"radius\"] >= (640 if i == 0 else 480):\n",
    "                circle[\"velocity\"][i] = -circle[\"velocity\"][i]"
   ]
  },
  {
   "cell_type": "code",
   "execution_count": 31,
   "id": "50be6c0b-0219-4317-be7f-c0b0b4872873",
   "metadata": {},
   "outputs": [],
   "source": [
    "# 원 그리기 함수\n",
    "def draw_circles(frame):\n",
    "    for circle in circles:\n",
    "        cv2.circle(frame, tuple(circle[\"pos\"]), circle[\"radius\"], circle[\"color\"], -1)"
   ]
  },
  {
   "cell_type": "code",
   "execution_count": 32,
   "id": "367b51b1-aff3-4146-8135-84d85df30965",
   "metadata": {},
   "outputs": [],
   "source": [
    "# 손이 원을 집는지 확인하는 함수\n",
    "def is_circle_grabbed(hand_landmarks, circle):\n",
    "    x, y = circle[\"pos\"]\n",
    "    radius = circle[\"radius\"]\n",
    "    if hand_landmarks:\n",
    "        for hand_landmark in hand_landmarks:\n",
    "            thumb_tip = hand_landmark.landmark[4]\n",
    "            index_tip = hand_landmark.landmark[8]\n",
    "            thumb_pos = (int(thumb_tip.x * 640), int(thumb_tip.y * 480))\n",
    "            index_pos = (int(index_tip.x * 640), int(index_tip.y * 480))\n",
    "            distance = ((thumb_pos[0] - index_pos[0]) ** 2 + (thumb_pos[1] - index_pos[1]) ** 2) ** 0.5\n",
    "            if distance < radius and x - radius < index_pos[0] < x + radius and y - radius < index_pos[1] < y + radius:\n",
    "                return True\n",
    "    return False"
   ]
  },
  {
   "cell_type": "code",
   "execution_count": 33,
   "id": "91d452c3-3f00-4246-acca-ce6753f93638",
   "metadata": {},
   "outputs": [],
   "source": [
    "# 주먹 쥐는 동작 확인 함수\n",
    "def is_fist(hand_landmarks):\n",
    "    if hand_landmarks:\n",
    "        for hand_landmark in hand_landmarks:\n",
    "            thumb_tip = hand_landmark.landmark[4]\n",
    "            index_tip = hand_landmark.landmark[8]\n",
    "            middle_tip = hand_landmark.landmark[12]\n",
    "            ring_tip = hand_landmark.landmark[16]\n",
    "            pinky_tip = hand_landmark.landmark[20]\n",
    "\n",
    "            tips = [thumb_tip, index_tip, middle_tip, ring_tip, pinky_tip]\n",
    "            tip_positions = [(int(tip.x * 640), int(tip.y * 480)) for tip in tips]\n",
    "\n",
    "            distances = [((tip_positions[0][0] - tip[0]) ** 2 + (tip_positions[0][1] - tip[1]) ** 2) ** 0.5 for tip in tip_positions[1:]]\n",
    "            return all(distance < 50 for distance in distances)  # 모든 손가락 끝이 서로 가까이 모여있는지 확인\n",
    "    return False"
   ]
  },
  {
   "cell_type": "code",
   "execution_count": 34,
   "id": "c76ecae1-82d6-490c-85a7-9d8cfa22e806",
   "metadata": {},
   "outputs": [],
   "source": [
    "# 웹캠 피드 초기화\n",
    "cap = cv2.VideoCapture(0)"
   ]
  },
  {
   "cell_type": "code",
   "execution_count": 35,
   "id": "3e868156-a831-4504-aa2a-5755a0e76904",
   "metadata": {},
   "outputs": [],
   "source": [
    "# 웹캠 피드 확인\n",
    "if not cap.isOpened():\n",
    "    print(\"Error: Could not open webcam.\")\n",
    "    exit()"
   ]
  },
  {
   "cell_type": "code",
   "execution_count": 36,
   "id": "9f2a064d-02a1-49ac-957c-7f4bd9ed9912",
   "metadata": {},
   "outputs": [
    {
     "name": "stdout",
     "output_type": "stream",
     "text": [
      "Score: -3\n",
      "Score: 2\n",
      "Score: 5\n",
      "Score: 2\n",
      "Score: 7\n",
      "Score: 10\n",
      "Score: 13\n",
      "Score: 18\n",
      "Score: 21\n"
     ]
    }
   ],
   "source": [
    "while True:\n",
    "    ret, frame = cap.read()\n",
    "    if not ret:\n",
    "        print(\"Error: Could not read frame.\")\n",
    "        break\n",
    "\n",
    "    frame = cv2.flip(frame, 1)  # 좌우 반전\n",
    "    rgb_frame = cv2.cvtColor(frame, cv2.COLOR_BGR2RGB)\n",
    "    result = hands.process(rgb_frame)\n",
    "\n",
    "    if result.multi_hand_landmarks:\n",
    "        if is_fist(result.multi_hand_landmarks):\n",
    "            frame[:] = (0, 0, 0)  # 화면을 검정색으로 비움\n",
    "            cv2.putText(frame, \"End Game!\", (220, 240), cv2.FONT_HERSHEY_SIMPLEX, 2, (255, 255, 255), 4, cv2.LINE_AA)\n",
    "            cv2.imshow('Moving Circles Game', frame)  # 화면 표시\n",
    "            cv2.waitKey(2000)  # 2초간 대기\n",
    "            break\n",
    "\n",
    "        for hand_landmarks in result.multi_hand_landmarks:\n",
    "            mp_drawing.draw_landmarks(frame, hand_landmarks, mp_hands.HAND_CONNECTIONS)\n",
    "            for circle in circles[:]:\n",
    "                if is_circle_grabbed(result.multi_hand_landmarks, circle):\n",
    "                    score += circle[\"score\"]\n",
    "                    circles.remove(circle)\n",
    "                    print(f'Score: {score}')\n",
    "\n",
    "    move_circles()  # 원 이동\n",
    "    draw_circles(frame)  # 원 그리기\n",
    "\n",
    "    cv2.putText(frame, f'Score: {score}', (10, 30), cv2.FONT_HERSHEY_SIMPLEX, 1, (255, 255, 255), 2, cv2.LINE_AA)\n",
    "    cv2.imshow('Moving Circles Game', frame)  # 화면 표시\n",
    "\n",
    "    if cv2.waitKey(1) & 0xFF == 27:  # ESC 키로 종료\n",
    "        break"
   ]
  },
  {
   "cell_type": "code",
   "execution_count": 37,
   "id": "eea17780-6d28-4dd1-ad40-b15371458f60",
   "metadata": {},
   "outputs": [],
   "source": [
    "cap.release()\n",
    "cv2.destroyAllWindows()\n",
    "hands.close()"
   ]
  }
 ],
 "metadata": {
  "kernelspec": {
   "display_name": "Python 3 (ipykernel)",
   "language": "python",
   "name": "python3"
  },
  "language_info": {
   "codemirror_mode": {
    "name": "ipython",
    "version": 3
   },
   "file_extension": ".py",
   "mimetype": "text/x-python",
   "name": "python",
   "nbconvert_exporter": "python",
   "pygments_lexer": "ipython3",
   "version": "3.11.7"
  }
 },
 "nbformat": 4,
 "nbformat_minor": 5
}
